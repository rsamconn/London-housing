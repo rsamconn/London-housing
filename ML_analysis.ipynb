{
 "cells": [
  {
   "cell_type": "markdown",
   "id": "c55bedd8",
   "metadata": {},
   "source": [
    "# Machine Learning Analysis - London Housing Data\n",
    "\n",
    "This notebook will apply supervised ML models from scikit-learn to analyse the real estate data in ```10m_london_houses_.csv```.\n",
    "\n",
    "Exploratory data analysis of this dataset is covered in ```EDA.ipynb```.\n",
    "\n",
    "The goal of this notebook is to try out some simple ML models and test best ML practices using a straightforward dataset. This includes\n",
    "- Apply regression models (Linear, Logistic, Ridge and Lasso) to predict house prices.\n",
    "- Apply KNN to predict whether or not a house has a garage/ garden.\n",
    "- Perform k-fold cross validation.\n",
    "- Evaluate model performance with all available metrics: ROC/ AUC curves, accuracy, precision, F1-score, R^2, MSE, RMSE, NMSE confusion matrices.\n",
    "- Perform hyperparameter tuning with GridSearchCV and RandomSearchCV to optimize models.\n",
    "- Determine the best regression model for price prediction.\n",
    "- Convert categorical data to numerical data.\n",
    "- Evaluate the effect of scaling/ normalization on model performance.\n",
    "- Automate model building with pipelines."
   ]
  },
  {
   "cell_type": "code",
   "execution_count": 2,
   "id": "70a5d9d1",
   "metadata": {},
   "outputs": [
    {
     "name": "stdout",
     "output_type": "stream",
     "text": [
      "nan\n"
     ]
    }
   ],
   "source": [
    "# Imports\n",
    "import pandas as pd\n",
    "import numpy as np\n",
    "import matplotlib.pyplot as plt\n",
    "\n",
    "print(np.NaN)"
   ]
  },
  {
   "cell_type": "code",
   "execution_count": 3,
   "id": "30487eaf",
   "metadata": {},
   "outputs": [
    {
     "name": "stdout",
     "output_type": "stream",
     "text": [
      "Dataset shape: (1000, 17)\n"
     ]
    },
    {
     "data": {
      "text/html": [
       "<div>\n",
       "<style scoped>\n",
       "    .dataframe tbody tr th:only-of-type {\n",
       "        vertical-align: middle;\n",
       "    }\n",
       "\n",
       "    .dataframe tbody tr th {\n",
       "        vertical-align: top;\n",
       "    }\n",
       "\n",
       "    .dataframe thead th {\n",
       "        text-align: right;\n",
       "    }\n",
       "</style>\n",
       "<table border=\"1\" class=\"dataframe\">\n",
       "  <thead>\n",
       "    <tr style=\"text-align: right;\">\n",
       "      <th></th>\n",
       "      <th>Address</th>\n",
       "      <th>Neighborhood</th>\n",
       "      <th>Bedrooms</th>\n",
       "      <th>Bathrooms</th>\n",
       "      <th>Square Meters</th>\n",
       "      <th>Building Age</th>\n",
       "      <th>Garden</th>\n",
       "      <th>Garage</th>\n",
       "      <th>Floors</th>\n",
       "      <th>Property Type</th>\n",
       "      <th>Heating Type</th>\n",
       "      <th>Balcony</th>\n",
       "      <th>Interior Style</th>\n",
       "      <th>View</th>\n",
       "      <th>Materials</th>\n",
       "      <th>Building Status</th>\n",
       "      <th>Price (£)</th>\n",
       "    </tr>\n",
       "  </thead>\n",
       "  <tbody>\n",
       "    <tr>\n",
       "      <th>0</th>\n",
       "      <td>78 Regent Street</td>\n",
       "      <td>Notting Hill</td>\n",
       "      <td>2</td>\n",
       "      <td>3</td>\n",
       "      <td>179</td>\n",
       "      <td>72</td>\n",
       "      <td>No</td>\n",
       "      <td>No</td>\n",
       "      <td>3</td>\n",
       "      <td>Semi-Detached</td>\n",
       "      <td>Electric Heating</td>\n",
       "      <td>High-level Balcony</td>\n",
       "      <td>Industrial</td>\n",
       "      <td>Garden</td>\n",
       "      <td>Marble</td>\n",
       "      <td>Renovated</td>\n",
       "      <td>2291200</td>\n",
       "    </tr>\n",
       "    <tr>\n",
       "      <th>1</th>\n",
       "      <td>198 Oxford Street</td>\n",
       "      <td>Westminster</td>\n",
       "      <td>2</td>\n",
       "      <td>1</td>\n",
       "      <td>123</td>\n",
       "      <td>34</td>\n",
       "      <td>Yes</td>\n",
       "      <td>No</td>\n",
       "      <td>1</td>\n",
       "      <td>Apartment</td>\n",
       "      <td>Central Heating</td>\n",
       "      <td>High-level Balcony</td>\n",
       "      <td>Industrial</td>\n",
       "      <td>City</td>\n",
       "      <td>Laminate Flooring</td>\n",
       "      <td>Old</td>\n",
       "      <td>1476000</td>\n",
       "    </tr>\n",
       "    <tr>\n",
       "      <th>2</th>\n",
       "      <td>18 Regent Street</td>\n",
       "      <td>Soho</td>\n",
       "      <td>5</td>\n",
       "      <td>3</td>\n",
       "      <td>168</td>\n",
       "      <td>38</td>\n",
       "      <td>No</td>\n",
       "      <td>Yes</td>\n",
       "      <td>3</td>\n",
       "      <td>Semi-Detached</td>\n",
       "      <td>Central Heating</td>\n",
       "      <td>No Balcony</td>\n",
       "      <td>Industrial</td>\n",
       "      <td>Street</td>\n",
       "      <td>Wood</td>\n",
       "      <td>Renovated</td>\n",
       "      <td>1881600</td>\n",
       "    </tr>\n",
       "    <tr>\n",
       "      <th>3</th>\n",
       "      <td>39 Piccadilly Circus</td>\n",
       "      <td>Islington</td>\n",
       "      <td>5</td>\n",
       "      <td>1</td>\n",
       "      <td>237</td>\n",
       "      <td>53</td>\n",
       "      <td>Yes</td>\n",
       "      <td>Yes</td>\n",
       "      <td>1</td>\n",
       "      <td>Apartment</td>\n",
       "      <td>Underfloor Heating</td>\n",
       "      <td>No Balcony</td>\n",
       "      <td>Classic</td>\n",
       "      <td>Park</td>\n",
       "      <td>Granite</td>\n",
       "      <td>Renovated</td>\n",
       "      <td>1896000</td>\n",
       "    </tr>\n",
       "    <tr>\n",
       "      <th>4</th>\n",
       "      <td>116 Fleet Street</td>\n",
       "      <td>Marylebone</td>\n",
       "      <td>4</td>\n",
       "      <td>1</td>\n",
       "      <td>127</td>\n",
       "      <td>23</td>\n",
       "      <td>No</td>\n",
       "      <td>Yes</td>\n",
       "      <td>2</td>\n",
       "      <td>Semi-Detached</td>\n",
       "      <td>Central Heating</td>\n",
       "      <td>No Balcony</td>\n",
       "      <td>Modern</td>\n",
       "      <td>Park</td>\n",
       "      <td>Wood</td>\n",
       "      <td>Old</td>\n",
       "      <td>1524000</td>\n",
       "    </tr>\n",
       "  </tbody>\n",
       "</table>\n",
       "</div>"
      ],
      "text/plain": [
       "                Address  Neighborhood  Bedrooms  Bathrooms  Square Meters  \\\n",
       "0      78 Regent Street  Notting Hill         2          3            179   \n",
       "1     198 Oxford Street   Westminster         2          1            123   \n",
       "2      18 Regent Street          Soho         5          3            168   \n",
       "3  39 Piccadilly Circus     Islington         5          1            237   \n",
       "4      116 Fleet Street    Marylebone         4          1            127   \n",
       "\n",
       "   Building Age Garden Garage  Floors  Property Type        Heating Type  \\\n",
       "0            72     No     No       3  Semi-Detached    Electric Heating   \n",
       "1            34    Yes     No       1      Apartment     Central Heating   \n",
       "2            38     No    Yes       3  Semi-Detached     Central Heating   \n",
       "3            53    Yes    Yes       1      Apartment  Underfloor Heating   \n",
       "4            23     No    Yes       2  Semi-Detached     Central Heating   \n",
       "\n",
       "              Balcony Interior Style    View          Materials  \\\n",
       "0  High-level Balcony     Industrial  Garden             Marble   \n",
       "1  High-level Balcony     Industrial    City  Laminate Flooring   \n",
       "2          No Balcony     Industrial  Street               Wood   \n",
       "3          No Balcony        Classic    Park            Granite   \n",
       "4          No Balcony         Modern    Park               Wood   \n",
       "\n",
       "  Building Status  Price (£)  \n",
       "0       Renovated    2291200  \n",
       "1             Old    1476000  \n",
       "2       Renovated    1881600  \n",
       "3       Renovated    1896000  \n",
       "4             Old    1524000  "
      ]
     },
     "metadata": {},
     "output_type": "display_data"
    }
   ],
   "source": [
    "# Load the data\n",
    "housing_df = pd.read_csv('data/10m_london_houses_.csv')\n",
    "\n",
    "# Reminder of how the data looks\n",
    "print(f\"Dataset shape: {housing_df.shape}\")\n",
    "display(housing_df.head())"
   ]
  },
  {
   "cell_type": "code",
   "execution_count": 5,
   "id": "cfa9c6fc",
   "metadata": {},
   "outputs": [
    {
     "name": "stdout",
     "output_type": "stream",
     "text": [
      "Requirement already satisfied: scikit-learn in /Users/matt/opt/anaconda3/envs/root_env/lib/python3.11/site-packages (1.7.2)\n",
      "Requirement already satisfied: numpy>=1.22.0 in /Users/matt/opt/anaconda3/envs/root_env/lib/python3.11/site-packages (from scikit-learn) (1.24.3)\n",
      "Requirement already satisfied: scipy>=1.8.0 in /Users/matt/opt/anaconda3/envs/root_env/lib/python3.11/site-packages (from scikit-learn) (1.11.3)\n",
      "Requirement already satisfied: joblib>=1.2.0 in /Users/matt/opt/anaconda3/envs/root_env/lib/python3.11/site-packages (from scikit-learn) (1.5.2)\n",
      "Requirement already satisfied: threadpoolctl>=3.1.0 in /Users/matt/opt/anaconda3/envs/root_env/lib/python3.11/site-packages (from scikit-learn) (3.6.0)\n",
      "Note: you may need to restart the kernel to use updated packages.\n"
     ]
    }
   ],
   "source": [
    "pip install scikit-learn"
   ]
  },
  {
   "cell_type": "code",
   "execution_count": 7,
   "id": "02cea81f",
   "metadata": {},
   "outputs": [],
   "source": [
    "# Test a KNN model\n",
    "from sklearn.neighbors import KNeighborsClassifier\n",
    "\n",
    "knn = KNeighborsClassifier(n_neighbors = 5)"
   ]
  },
  {
   "cell_type": "code",
   "execution_count": null,
   "id": "1619e0a2",
   "metadata": {},
   "outputs": [
    {
     "name": "stdout",
     "output_type": "stream",
     "text": [
      "(700, 3)\n",
      "(300, 3)\n",
      "(700,)\n",
      "(300,)\n"
     ]
    }
   ],
   "source": [
    "# First we need to prep the data a bit\n",
    "\n",
    "# Create column where Garage is 0 or 1 instead of Yes/ No\n",
    "housing_df['Garage_val'] = housing_df['Garage'].replace({\"No\": 0, \"Yes\": 1})\n",
    "\n",
    "# Test the KNN with just a few columns first\n",
    "X = housing_df[['Bedrooms', 'Square Meters', 'Building Age']].values\n",
    "y = housing_df['Garage_val'].values\n",
    "\n",
    "# Perform test-train split\n",
    "from sklearn.model_selection import train_test_split\n",
    "X_train, X_test, y_train, y_test = train_test_split(X, y, test_size=0.3, random_state=55, stratify=y)\n",
    "\n",
    "# Check the size of our new datasets\n",
    "datasets = [X_train, X_test, y_train, y_test]\n",
    "for set in datasets:\n",
    "    print(set.shape)"
   ]
  },
  {
   "cell_type": "code",
   "execution_count": 33,
   "id": "f832507e",
   "metadata": {},
   "outputs": [
    {
     "data": {
      "text/plain": [
       "0.49333333333333335"
      ]
     },
     "execution_count": 33,
     "metadata": {},
     "output_type": "execute_result"
    }
   ],
   "source": [
    "# Test the model on the data\n",
    "knn.fit(X_train, y_train)\n",
    "\n",
    "knn.predict(X_test)\n",
    "\n",
    "knn.score(X_test, y_test)"
   ]
  },
  {
   "cell_type": "markdown",
   "id": "455728fb",
   "metadata": {},
   "source": [
    "Quite terrible performance - basically random chance!"
   ]
  },
  {
   "cell_type": "code",
   "execution_count": 34,
   "id": "2f49574c",
   "metadata": {},
   "outputs": [],
   "source": [
    "# Loop over multiple neighbor values to find the optimal value\n",
    "train_accuracies = {}\n",
    "test_accuracies = {}\n",
    "neighbors = np.arange(1, 20)\n",
    "for n in neighbors:\n",
    "    knn = KNeighborsClassifier(n_neighbors = n)\n",
    "    knn.fit(X_train, y_train)\n",
    "    train_accuracies[n] = knn.score(X_train, y_train)\n",
    "    test_accuracies[n] = knn.score(X_test, y_test)"
   ]
  },
  {
   "cell_type": "code",
   "execution_count": 39,
   "id": "78f88e7d",
   "metadata": {},
   "outputs": [
    {
     "data": {
      "image/png": "[encoded data removed]",
      "text/plain": [
       "<Figure size 640x480 with 1 Axes>"
      ]
     },
     "metadata": {},
     "output_type": "display_data"
    }
   ],
   "source": [
    "# Plot the KNN scores\n",
    "plt.plot(neighbors, train_accuracies.values())\n",
    "plt.plot(neighbors, test_accuracies.values())\n",
    "plt.show()\n"
   ]
  },
  {
   "cell_type": "markdown",
   "id": "fb2537ea",
   "metadata": {},
   "source": [
    "Tragically, the KNN doesn't get much better than random chance"
   ]
  }
 ],
 "metadata": {
  "kernelspec": {
   "display_name": "root_env",
   "language": "python",
   "name": "python3"
  },
  "language_info": {
   "codemirror_mode": {
    "name": "ipython",
    "version": 3
   },
   "file_extension": ".py",
   "mimetype": "text/x-python",
   "name": "python",
   "nbconvert_exporter": "python",
   "pygments_lexer": "ipython3",
   "version": "3.11.3"
  }
 },
 "nbformat": 4,
 "nbformat_minor": 5
}
